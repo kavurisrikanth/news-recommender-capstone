{
 "cells": [
  {
   "attachments": {},
   "cell_type": "markdown",
   "metadata": {},
   "source": [
    "#### Topic Modeling on Article data"
   ]
  },
  {
   "cell_type": "code",
   "execution_count": 60,
   "metadata": {},
   "outputs": [],
   "source": [
    "import pandas as pd\n",
    "import numpy as np"
   ]
  },
  {
   "cell_type": "code",
   "execution_count": 61,
   "metadata": {},
   "outputs": [],
   "source": [
    "import warnings\n",
    "warnings.filterwarnings('ignore')"
   ]
  },
  {
   "cell_type": "code",
   "execution_count": 62,
   "metadata": {},
   "outputs": [],
   "source": [
    "content = pd.read_csv('../data/platform_content.csv')"
   ]
  },
  {
   "cell_type": "code",
   "execution_count": 63,
   "metadata": {},
   "outputs": [
    {
     "data": {
      "text/html": [
       "<div>\n",
       "<style scoped>\n",
       "    .dataframe tbody tr th:only-of-type {\n",
       "        vertical-align: middle;\n",
       "    }\n",
       "\n",
       "    .dataframe tbody tr th {\n",
       "        vertical-align: top;\n",
       "    }\n",
       "\n",
       "    .dataframe thead th {\n",
       "        text-align: right;\n",
       "    }\n",
       "</style>\n",
       "<table border=\"1\" class=\"dataframe\">\n",
       "  <thead>\n",
       "    <tr style=\"text-align: right;\">\n",
       "      <th></th>\n",
       "      <th>event_timestamp</th>\n",
       "      <th>interaction_type</th>\n",
       "      <th>item_id</th>\n",
       "      <th>producer_id</th>\n",
       "      <th>producer_session_id</th>\n",
       "      <th>producer_device_info</th>\n",
       "      <th>producer_location</th>\n",
       "      <th>producer_country</th>\n",
       "      <th>item_type</th>\n",
       "      <th>item_url</th>\n",
       "      <th>title</th>\n",
       "      <th>text_description</th>\n",
       "      <th>language</th>\n",
       "    </tr>\n",
       "  </thead>\n",
       "  <tbody>\n",
       "    <tr>\n",
       "      <th>0</th>\n",
       "      <td>1459192779</td>\n",
       "      <td>content_pulled_out</td>\n",
       "      <td>-6451309518266745024</td>\n",
       "      <td>4340306774493623681</td>\n",
       "      <td>8940341205206233829</td>\n",
       "      <td>NaN</td>\n",
       "      <td>NaN</td>\n",
       "      <td>NaN</td>\n",
       "      <td>HTML</td>\n",
       "      <td>http://www.nytimes.com/2016/03/28/business/dea...</td>\n",
       "      <td>Ethereum, a Virtual Currency, Enables Transact...</td>\n",
       "      <td>All of this work is still very early. The firs...</td>\n",
       "      <td>en</td>\n",
       "    </tr>\n",
       "    <tr>\n",
       "      <th>1</th>\n",
       "      <td>1459193988</td>\n",
       "      <td>content_present</td>\n",
       "      <td>-4110354420726924665</td>\n",
       "      <td>4340306774493623681</td>\n",
       "      <td>8940341205206233829</td>\n",
       "      <td>NaN</td>\n",
       "      <td>NaN</td>\n",
       "      <td>NaN</td>\n",
       "      <td>HTML</td>\n",
       "      <td>http://www.nytimes.com/2016/03/28/business/dea...</td>\n",
       "      <td>Ethereum, a Virtual Currency, Enables Transact...</td>\n",
       "      <td>All of this work is still very early. The firs...</td>\n",
       "      <td>en</td>\n",
       "    </tr>\n",
       "    <tr>\n",
       "      <th>2</th>\n",
       "      <td>1459194146</td>\n",
       "      <td>content_present</td>\n",
       "      <td>-7292285110016212249</td>\n",
       "      <td>4340306774493623681</td>\n",
       "      <td>8940341205206233829</td>\n",
       "      <td>NaN</td>\n",
       "      <td>NaN</td>\n",
       "      <td>NaN</td>\n",
       "      <td>HTML</td>\n",
       "      <td>http://cointelegraph.com/news/bitcoin-future-w...</td>\n",
       "      <td>Bitcoin Future: When GBPcoin of Branson Wins O...</td>\n",
       "      <td>The alarm clock wakes me at 8:00 with stream o...</td>\n",
       "      <td>en</td>\n",
       "    </tr>\n",
       "    <tr>\n",
       "      <th>3</th>\n",
       "      <td>1459194474</td>\n",
       "      <td>content_present</td>\n",
       "      <td>-6151852268067518688</td>\n",
       "      <td>3891637997717104548</td>\n",
       "      <td>-1457532940883382585</td>\n",
       "      <td>NaN</td>\n",
       "      <td>NaN</td>\n",
       "      <td>NaN</td>\n",
       "      <td>HTML</td>\n",
       "      <td>https://cloudplatform.googleblog.com/2016/03/G...</td>\n",
       "      <td>Google Data Center 360° Tour</td>\n",
       "      <td>We're excited to share the Google Data Center ...</td>\n",
       "      <td>en</td>\n",
       "    </tr>\n",
       "    <tr>\n",
       "      <th>4</th>\n",
       "      <td>1459194497</td>\n",
       "      <td>content_present</td>\n",
       "      <td>2448026894306402386</td>\n",
       "      <td>4340306774493623681</td>\n",
       "      <td>8940341205206233829</td>\n",
       "      <td>NaN</td>\n",
       "      <td>NaN</td>\n",
       "      <td>NaN</td>\n",
       "      <td>HTML</td>\n",
       "      <td>https://bitcoinmagazine.com/articles/ibm-wants...</td>\n",
       "      <td>IBM Wants to \"Evolve the Internet\" With Blockc...</td>\n",
       "      <td>The Aite Group projects the blockchain market ...</td>\n",
       "      <td>en</td>\n",
       "    </tr>\n",
       "  </tbody>\n",
       "</table>\n",
       "</div>"
      ],
      "text/plain": [
       "   event_timestamp    interaction_type              item_id  \\\n",
       "0       1459192779  content_pulled_out -6451309518266745024   \n",
       "1       1459193988     content_present -4110354420726924665   \n",
       "2       1459194146     content_present -7292285110016212249   \n",
       "3       1459194474     content_present -6151852268067518688   \n",
       "4       1459194497     content_present  2448026894306402386   \n",
       "\n",
       "           producer_id  producer_session_id producer_device_info  \\\n",
       "0  4340306774493623681  8940341205206233829                  NaN   \n",
       "1  4340306774493623681  8940341205206233829                  NaN   \n",
       "2  4340306774493623681  8940341205206233829                  NaN   \n",
       "3  3891637997717104548 -1457532940883382585                  NaN   \n",
       "4  4340306774493623681  8940341205206233829                  NaN   \n",
       "\n",
       "  producer_location producer_country item_type  \\\n",
       "0               NaN              NaN      HTML   \n",
       "1               NaN              NaN      HTML   \n",
       "2               NaN              NaN      HTML   \n",
       "3               NaN              NaN      HTML   \n",
       "4               NaN              NaN      HTML   \n",
       "\n",
       "                                            item_url  \\\n",
       "0  http://www.nytimes.com/2016/03/28/business/dea...   \n",
       "1  http://www.nytimes.com/2016/03/28/business/dea...   \n",
       "2  http://cointelegraph.com/news/bitcoin-future-w...   \n",
       "3  https://cloudplatform.googleblog.com/2016/03/G...   \n",
       "4  https://bitcoinmagazine.com/articles/ibm-wants...   \n",
       "\n",
       "                                               title  \\\n",
       "0  Ethereum, a Virtual Currency, Enables Transact...   \n",
       "1  Ethereum, a Virtual Currency, Enables Transact...   \n",
       "2  Bitcoin Future: When GBPcoin of Branson Wins O...   \n",
       "3                       Google Data Center 360° Tour   \n",
       "4  IBM Wants to \"Evolve the Internet\" With Blockc...   \n",
       "\n",
       "                                    text_description language  \n",
       "0  All of this work is still very early. The firs...       en  \n",
       "1  All of this work is still very early. The firs...       en  \n",
       "2  The alarm clock wakes me at 8:00 with stream o...       en  \n",
       "3  We're excited to share the Google Data Center ...       en  \n",
       "4  The Aite Group projects the blockchain market ...       en  "
      ]
     },
     "execution_count": 63,
     "metadata": {},
     "output_type": "execute_result"
    }
   ],
   "source": [
    "content.head()"
   ]
  },
  {
   "attachments": {},
   "cell_type": "markdown",
   "metadata": {},
   "source": [
    "Remove all docs that are not in English"
   ]
  },
  {
   "cell_type": "code",
   "execution_count": 64,
   "metadata": {},
   "outputs": [
    {
     "data": {
      "text/plain": [
       "en    2264\n",
       "pt     850\n",
       "la       4\n",
       "es       2\n",
       "ja       2\n",
       "Name: language, dtype: int64"
      ]
     },
     "execution_count": 64,
     "metadata": {},
     "output_type": "execute_result"
    }
   ],
   "source": [
    "content.language.value_counts()"
   ]
  },
  {
   "cell_type": "code",
   "execution_count": 65,
   "metadata": {},
   "outputs": [
    {
     "data": {
      "text/plain": [
       "(3122, 13)"
      ]
     },
     "execution_count": 65,
     "metadata": {},
     "output_type": "execute_result"
    }
   ],
   "source": [
    "content.shape"
   ]
  },
  {
   "cell_type": "code",
   "execution_count": 66,
   "metadata": {},
   "outputs": [],
   "source": [
    "content = content[content['language'] == 'en']"
   ]
  },
  {
   "cell_type": "code",
   "execution_count": 67,
   "metadata": {},
   "outputs": [
    {
     "data": {
      "text/plain": [
       "(2264, 13)"
      ]
     },
     "execution_count": 67,
     "metadata": {},
     "output_type": "execute_result"
    }
   ],
   "source": [
    "content.shape"
   ]
  },
  {
   "attachments": {},
   "cell_type": "markdown",
   "metadata": {},
   "source": []
  },
  {
   "cell_type": "code",
   "execution_count": null,
   "metadata": {},
   "outputs": [],
   "source": []
  },
  {
   "cell_type": "code",
   "execution_count": 68,
   "metadata": {},
   "outputs": [],
   "source": [
    "no_dups = content.sort_values('event_timestamp').drop_duplicates(subset=['title', 'text_description'], keep='last')"
   ]
  },
  {
   "cell_type": "code",
   "execution_count": 69,
   "metadata": {},
   "outputs": [
    {
     "data": {
      "text/html": [
       "<div>\n",
       "<style scoped>\n",
       "    .dataframe tbody tr th:only-of-type {\n",
       "        vertical-align: middle;\n",
       "    }\n",
       "\n",
       "    .dataframe tbody tr th {\n",
       "        vertical-align: top;\n",
       "    }\n",
       "\n",
       "    .dataframe thead th {\n",
       "        text-align: right;\n",
       "    }\n",
       "</style>\n",
       "<table border=\"1\" class=\"dataframe\">\n",
       "  <thead>\n",
       "    <tr style=\"text-align: right;\">\n",
       "      <th></th>\n",
       "      <th>event_timestamp</th>\n",
       "      <th>interaction_type</th>\n",
       "      <th>item_id</th>\n",
       "      <th>producer_id</th>\n",
       "      <th>producer_session_id</th>\n",
       "      <th>producer_device_info</th>\n",
       "      <th>producer_location</th>\n",
       "      <th>producer_country</th>\n",
       "      <th>item_type</th>\n",
       "      <th>item_url</th>\n",
       "      <th>title</th>\n",
       "      <th>text_description</th>\n",
       "      <th>language</th>\n",
       "    </tr>\n",
       "  </thead>\n",
       "  <tbody>\n",
       "    <tr>\n",
       "      <th>1</th>\n",
       "      <td>1459193988</td>\n",
       "      <td>content_present</td>\n",
       "      <td>-4110354420726924665</td>\n",
       "      <td>4340306774493623681</td>\n",
       "      <td>8940341205206233829</td>\n",
       "      <td>NaN</td>\n",
       "      <td>NaN</td>\n",
       "      <td>NaN</td>\n",
       "      <td>HTML</td>\n",
       "      <td>http://www.nytimes.com/2016/03/28/business/dea...</td>\n",
       "      <td>Ethereum, a Virtual Currency, Enables Transact...</td>\n",
       "      <td>All of this work is still very early. The firs...</td>\n",
       "      <td>en</td>\n",
       "    </tr>\n",
       "    <tr>\n",
       "      <th>2</th>\n",
       "      <td>1459194146</td>\n",
       "      <td>content_present</td>\n",
       "      <td>-7292285110016212249</td>\n",
       "      <td>4340306774493623681</td>\n",
       "      <td>8940341205206233829</td>\n",
       "      <td>NaN</td>\n",
       "      <td>NaN</td>\n",
       "      <td>NaN</td>\n",
       "      <td>HTML</td>\n",
       "      <td>http://cointelegraph.com/news/bitcoin-future-w...</td>\n",
       "      <td>Bitcoin Future: When GBPcoin of Branson Wins O...</td>\n",
       "      <td>The alarm clock wakes me at 8:00 with stream o...</td>\n",
       "      <td>en</td>\n",
       "    </tr>\n",
       "    <tr>\n",
       "      <th>3</th>\n",
       "      <td>1459194474</td>\n",
       "      <td>content_present</td>\n",
       "      <td>-6151852268067518688</td>\n",
       "      <td>3891637997717104548</td>\n",
       "      <td>-1457532940883382585</td>\n",
       "      <td>NaN</td>\n",
       "      <td>NaN</td>\n",
       "      <td>NaN</td>\n",
       "      <td>HTML</td>\n",
       "      <td>https://cloudplatform.googleblog.com/2016/03/G...</td>\n",
       "      <td>Google Data Center 360° Tour</td>\n",
       "      <td>We're excited to share the Google Data Center ...</td>\n",
       "      <td>en</td>\n",
       "    </tr>\n",
       "    <tr>\n",
       "      <th>4</th>\n",
       "      <td>1459194497</td>\n",
       "      <td>content_present</td>\n",
       "      <td>2448026894306402386</td>\n",
       "      <td>4340306774493623681</td>\n",
       "      <td>8940341205206233829</td>\n",
       "      <td>NaN</td>\n",
       "      <td>NaN</td>\n",
       "      <td>NaN</td>\n",
       "      <td>HTML</td>\n",
       "      <td>https://bitcoinmagazine.com/articles/ibm-wants...</td>\n",
       "      <td>IBM Wants to \"Evolve the Internet\" With Blockc...</td>\n",
       "      <td>The Aite Group projects the blockchain market ...</td>\n",
       "      <td>en</td>\n",
       "    </tr>\n",
       "    <tr>\n",
       "      <th>5</th>\n",
       "      <td>1459194522</td>\n",
       "      <td>content_present</td>\n",
       "      <td>-2826566343807132236</td>\n",
       "      <td>4340306774493623681</td>\n",
       "      <td>8940341205206233829</td>\n",
       "      <td>NaN</td>\n",
       "      <td>NaN</td>\n",
       "      <td>NaN</td>\n",
       "      <td>HTML</td>\n",
       "      <td>http://www.coindesk.com/ieee-blockchain-oxford...</td>\n",
       "      <td>IEEE to Talk Blockchain at Cloud Computing Oxf...</td>\n",
       "      <td>One of the largest and oldest organizations fo...</td>\n",
       "      <td>en</td>\n",
       "    </tr>\n",
       "  </tbody>\n",
       "</table>\n",
       "</div>"
      ],
      "text/plain": [
       "   event_timestamp interaction_type              item_id          producer_id  \\\n",
       "1       1459193988  content_present -4110354420726924665  4340306774493623681   \n",
       "2       1459194146  content_present -7292285110016212249  4340306774493623681   \n",
       "3       1459194474  content_present -6151852268067518688  3891637997717104548   \n",
       "4       1459194497  content_present  2448026894306402386  4340306774493623681   \n",
       "5       1459194522  content_present -2826566343807132236  4340306774493623681   \n",
       "\n",
       "   producer_session_id producer_device_info producer_location  \\\n",
       "1  8940341205206233829                  NaN               NaN   \n",
       "2  8940341205206233829                  NaN               NaN   \n",
       "3 -1457532940883382585                  NaN               NaN   \n",
       "4  8940341205206233829                  NaN               NaN   \n",
       "5  8940341205206233829                  NaN               NaN   \n",
       "\n",
       "  producer_country item_type  \\\n",
       "1              NaN      HTML   \n",
       "2              NaN      HTML   \n",
       "3              NaN      HTML   \n",
       "4              NaN      HTML   \n",
       "5              NaN      HTML   \n",
       "\n",
       "                                            item_url  \\\n",
       "1  http://www.nytimes.com/2016/03/28/business/dea...   \n",
       "2  http://cointelegraph.com/news/bitcoin-future-w...   \n",
       "3  https://cloudplatform.googleblog.com/2016/03/G...   \n",
       "4  https://bitcoinmagazine.com/articles/ibm-wants...   \n",
       "5  http://www.coindesk.com/ieee-blockchain-oxford...   \n",
       "\n",
       "                                               title  \\\n",
       "1  Ethereum, a Virtual Currency, Enables Transact...   \n",
       "2  Bitcoin Future: When GBPcoin of Branson Wins O...   \n",
       "3                       Google Data Center 360° Tour   \n",
       "4  IBM Wants to \"Evolve the Internet\" With Blockc...   \n",
       "5  IEEE to Talk Blockchain at Cloud Computing Oxf...   \n",
       "\n",
       "                                    text_description language  \n",
       "1  All of this work is still very early. The firs...       en  \n",
       "2  The alarm clock wakes me at 8:00 with stream o...       en  \n",
       "3  We're excited to share the Google Data Center ...       en  \n",
       "4  The Aite Group projects the blockchain market ...       en  \n",
       "5  One of the largest and oldest organizations fo...       en  "
      ]
     },
     "execution_count": 69,
     "metadata": {},
     "output_type": "execute_result"
    }
   ],
   "source": [
    "no_dups.head()"
   ]
  },
  {
   "cell_type": "code",
   "execution_count": 70,
   "metadata": {},
   "outputs": [],
   "source": [
    "no_dups.reset_index(inplace=True)"
   ]
  },
  {
   "cell_type": "code",
   "execution_count": 71,
   "metadata": {},
   "outputs": [
    {
     "data": {
      "text/plain": [
       "content_present       2153\n",
       "content_pulled_out      38\n",
       "Name: interaction_type, dtype: int64"
      ]
     },
     "execution_count": 71,
     "metadata": {},
     "output_type": "execute_result"
    }
   ],
   "source": [
    "no_dups.interaction_type.value_counts()"
   ]
  },
  {
   "cell_type": "code",
   "execution_count": 72,
   "metadata": {},
   "outputs": [
    {
     "data": {
      "text/html": [
       "<div>\n",
       "<style scoped>\n",
       "    .dataframe tbody tr th:only-of-type {\n",
       "        vertical-align: middle;\n",
       "    }\n",
       "\n",
       "    .dataframe tbody tr th {\n",
       "        vertical-align: top;\n",
       "    }\n",
       "\n",
       "    .dataframe thead th {\n",
       "        text-align: right;\n",
       "    }\n",
       "</style>\n",
       "<table border=\"1\" class=\"dataframe\">\n",
       "  <thead>\n",
       "    <tr style=\"text-align: right;\">\n",
       "      <th></th>\n",
       "      <th>index</th>\n",
       "      <th>event_timestamp</th>\n",
       "      <th>interaction_type</th>\n",
       "      <th>item_id</th>\n",
       "      <th>producer_id</th>\n",
       "      <th>producer_session_id</th>\n",
       "      <th>producer_device_info</th>\n",
       "      <th>producer_location</th>\n",
       "      <th>producer_country</th>\n",
       "      <th>item_type</th>\n",
       "      <th>item_url</th>\n",
       "      <th>title</th>\n",
       "      <th>text_description</th>\n",
       "      <th>language</th>\n",
       "    </tr>\n",
       "  </thead>\n",
       "  <tbody>\n",
       "    <tr>\n",
       "      <th>0</th>\n",
       "      <td>1</td>\n",
       "      <td>1459193988</td>\n",
       "      <td>content_present</td>\n",
       "      <td>-4110354420726924665</td>\n",
       "      <td>4340306774493623681</td>\n",
       "      <td>8940341205206233829</td>\n",
       "      <td>NaN</td>\n",
       "      <td>NaN</td>\n",
       "      <td>NaN</td>\n",
       "      <td>HTML</td>\n",
       "      <td>http://www.nytimes.com/2016/03/28/business/dea...</td>\n",
       "      <td>Ethereum, a Virtual Currency, Enables Transact...</td>\n",
       "      <td>All of this work is still very early. The firs...</td>\n",
       "      <td>en</td>\n",
       "    </tr>\n",
       "  </tbody>\n",
       "</table>\n",
       "</div>"
      ],
      "text/plain": [
       "   index  event_timestamp interaction_type              item_id  \\\n",
       "0      1       1459193988  content_present -4110354420726924665   \n",
       "\n",
       "           producer_id  producer_session_id producer_device_info  \\\n",
       "0  4340306774493623681  8940341205206233829                  NaN   \n",
       "\n",
       "  producer_location producer_country item_type  \\\n",
       "0               NaN              NaN      HTML   \n",
       "\n",
       "                                            item_url  \\\n",
       "0  http://www.nytimes.com/2016/03/28/business/dea...   \n",
       "\n",
       "                                               title  \\\n",
       "0  Ethereum, a Virtual Currency, Enables Transact...   \n",
       "\n",
       "                                    text_description language  \n",
       "0  All of this work is still very early. The firs...       en  "
      ]
     },
     "execution_count": 72,
     "metadata": {},
     "output_type": "execute_result"
    }
   ],
   "source": [
    "no_dups[no_dups['title'] == \"Ethereum, a Virtual Currency, Enables Transactions That Rival Bitcoin's\"]"
   ]
  },
  {
   "cell_type": "code",
   "execution_count": 73,
   "metadata": {},
   "outputs": [
    {
     "data": {
      "text/html": [
       "<div>\n",
       "<style scoped>\n",
       "    .dataframe tbody tr th:only-of-type {\n",
       "        vertical-align: middle;\n",
       "    }\n",
       "\n",
       "    .dataframe tbody tr th {\n",
       "        vertical-align: top;\n",
       "    }\n",
       "\n",
       "    .dataframe thead th {\n",
       "        text-align: right;\n",
       "    }\n",
       "</style>\n",
       "<table border=\"1\" class=\"dataframe\">\n",
       "  <thead>\n",
       "    <tr style=\"text-align: right;\">\n",
       "      <th></th>\n",
       "      <th>event_timestamp</th>\n",
       "      <th>interaction_type</th>\n",
       "      <th>item_id</th>\n",
       "      <th>producer_id</th>\n",
       "      <th>producer_session_id</th>\n",
       "      <th>producer_device_info</th>\n",
       "      <th>producer_location</th>\n",
       "      <th>producer_country</th>\n",
       "      <th>item_type</th>\n",
       "      <th>item_url</th>\n",
       "      <th>title</th>\n",
       "      <th>text_description</th>\n",
       "      <th>language</th>\n",
       "    </tr>\n",
       "  </thead>\n",
       "  <tbody>\n",
       "    <tr>\n",
       "      <th>0</th>\n",
       "      <td>1459192779</td>\n",
       "      <td>content_pulled_out</td>\n",
       "      <td>-6451309518266745024</td>\n",
       "      <td>4340306774493623681</td>\n",
       "      <td>8940341205206233829</td>\n",
       "      <td>NaN</td>\n",
       "      <td>NaN</td>\n",
       "      <td>NaN</td>\n",
       "      <td>HTML</td>\n",
       "      <td>http://www.nytimes.com/2016/03/28/business/dea...</td>\n",
       "      <td>Ethereum, a Virtual Currency, Enables Transact...</td>\n",
       "      <td>All of this work is still very early. The firs...</td>\n",
       "      <td>en</td>\n",
       "    </tr>\n",
       "    <tr>\n",
       "      <th>1</th>\n",
       "      <td>1459193988</td>\n",
       "      <td>content_present</td>\n",
       "      <td>-4110354420726924665</td>\n",
       "      <td>4340306774493623681</td>\n",
       "      <td>8940341205206233829</td>\n",
       "      <td>NaN</td>\n",
       "      <td>NaN</td>\n",
       "      <td>NaN</td>\n",
       "      <td>HTML</td>\n",
       "      <td>http://www.nytimes.com/2016/03/28/business/dea...</td>\n",
       "      <td>Ethereum, a Virtual Currency, Enables Transact...</td>\n",
       "      <td>All of this work is still very early. The firs...</td>\n",
       "      <td>en</td>\n",
       "    </tr>\n",
       "  </tbody>\n",
       "</table>\n",
       "</div>"
      ],
      "text/plain": [
       "   event_timestamp    interaction_type              item_id  \\\n",
       "0       1459192779  content_pulled_out -6451309518266745024   \n",
       "1       1459193988     content_present -4110354420726924665   \n",
       "\n",
       "           producer_id  producer_session_id producer_device_info  \\\n",
       "0  4340306774493623681  8940341205206233829                  NaN   \n",
       "1  4340306774493623681  8940341205206233829                  NaN   \n",
       "\n",
       "  producer_location producer_country item_type  \\\n",
       "0               NaN              NaN      HTML   \n",
       "1               NaN              NaN      HTML   \n",
       "\n",
       "                                            item_url  \\\n",
       "0  http://www.nytimes.com/2016/03/28/business/dea...   \n",
       "1  http://www.nytimes.com/2016/03/28/business/dea...   \n",
       "\n",
       "                                               title  \\\n",
       "0  Ethereum, a Virtual Currency, Enables Transact...   \n",
       "1  Ethereum, a Virtual Currency, Enables Transact...   \n",
       "\n",
       "                                    text_description language  \n",
       "0  All of this work is still very early. The firs...       en  \n",
       "1  All of this work is still very early. The firs...       en  "
      ]
     },
     "execution_count": 73,
     "metadata": {},
     "output_type": "execute_result"
    }
   ],
   "source": [
    "content[content['title'] == \"Ethereum, a Virtual Currency, Enables Transactions That Rival Bitcoin's\"]"
   ]
  },
  {
   "cell_type": "markdown",
   "metadata": {},
   "source": [
    "Makes sense"
   ]
  },
  {
   "cell_type": "code",
   "execution_count": 74,
   "metadata": {},
   "outputs": [],
   "source": [
    "content = no_dups"
   ]
  },
  {
   "cell_type": "code",
   "execution_count": null,
   "metadata": {},
   "outputs": [],
   "source": []
  },
  {
   "attachments": {},
   "cell_type": "markdown",
   "metadata": {},
   "source": [
    "Drop everything except the text."
   ]
  },
  {
   "cell_type": "code",
   "execution_count": 75,
   "metadata": {},
   "outputs": [],
   "source": [
    "trimmed = content[['title', 'text_description', 'interaction_type']]"
   ]
  },
  {
   "cell_type": "code",
   "execution_count": 76,
   "metadata": {},
   "outputs": [
    {
     "data": {
      "text/html": [
       "<div>\n",
       "<style scoped>\n",
       "    .dataframe tbody tr th:only-of-type {\n",
       "        vertical-align: middle;\n",
       "    }\n",
       "\n",
       "    .dataframe tbody tr th {\n",
       "        vertical-align: top;\n",
       "    }\n",
       "\n",
       "    .dataframe thead th {\n",
       "        text-align: right;\n",
       "    }\n",
       "</style>\n",
       "<table border=\"1\" class=\"dataframe\">\n",
       "  <thead>\n",
       "    <tr style=\"text-align: right;\">\n",
       "      <th></th>\n",
       "      <th>title</th>\n",
       "      <th>text_description</th>\n",
       "      <th>interaction_type</th>\n",
       "    </tr>\n",
       "  </thead>\n",
       "  <tbody>\n",
       "    <tr>\n",
       "      <th>0</th>\n",
       "      <td>Ethereum, a Virtual Currency, Enables Transact...</td>\n",
       "      <td>All of this work is still very early. The firs...</td>\n",
       "      <td>content_present</td>\n",
       "    </tr>\n",
       "    <tr>\n",
       "      <th>1</th>\n",
       "      <td>Bitcoin Future: When GBPcoin of Branson Wins O...</td>\n",
       "      <td>The alarm clock wakes me at 8:00 with stream o...</td>\n",
       "      <td>content_present</td>\n",
       "    </tr>\n",
       "    <tr>\n",
       "      <th>2</th>\n",
       "      <td>Google Data Center 360° Tour</td>\n",
       "      <td>We're excited to share the Google Data Center ...</td>\n",
       "      <td>content_present</td>\n",
       "    </tr>\n",
       "    <tr>\n",
       "      <th>3</th>\n",
       "      <td>IBM Wants to \"Evolve the Internet\" With Blockc...</td>\n",
       "      <td>The Aite Group projects the blockchain market ...</td>\n",
       "      <td>content_present</td>\n",
       "    </tr>\n",
       "    <tr>\n",
       "      <th>4</th>\n",
       "      <td>IEEE to Talk Blockchain at Cloud Computing Oxf...</td>\n",
       "      <td>One of the largest and oldest organizations fo...</td>\n",
       "      <td>content_present</td>\n",
       "    </tr>\n",
       "  </tbody>\n",
       "</table>\n",
       "</div>"
      ],
      "text/plain": [
       "                                               title  \\\n",
       "0  Ethereum, a Virtual Currency, Enables Transact...   \n",
       "1  Bitcoin Future: When GBPcoin of Branson Wins O...   \n",
       "2                       Google Data Center 360° Tour   \n",
       "3  IBM Wants to \"Evolve the Internet\" With Blockc...   \n",
       "4  IEEE to Talk Blockchain at Cloud Computing Oxf...   \n",
       "\n",
       "                                    text_description interaction_type  \n",
       "0  All of this work is still very early. The firs...  content_present  \n",
       "1  The alarm clock wakes me at 8:00 with stream o...  content_present  \n",
       "2  We're excited to share the Google Data Center ...  content_present  \n",
       "3  The Aite Group projects the blockchain market ...  content_present  \n",
       "4  One of the largest and oldest organizations fo...  content_present  "
      ]
     },
     "execution_count": 76,
     "metadata": {},
     "output_type": "execute_result"
    }
   ],
   "source": [
    "trimmed.head()"
   ]
  },
  {
   "attachments": {},
   "cell_type": "markdown",
   "metadata": {},
   "source": [
    "Preprocessing"
   ]
  },
  {
   "cell_type": "code",
   "execution_count": 77,
   "metadata": {},
   "outputs": [],
   "source": [
    "trimmed['text_no_punc'] = trimmed.text_description.str.replace(r'[^\\w\\s]+', '')"
   ]
  },
  {
   "cell_type": "code",
   "execution_count": 78,
   "metadata": {},
   "outputs": [
    {
     "data": {
      "text/html": [
       "<div>\n",
       "<style scoped>\n",
       "    .dataframe tbody tr th:only-of-type {\n",
       "        vertical-align: middle;\n",
       "    }\n",
       "\n",
       "    .dataframe tbody tr th {\n",
       "        vertical-align: top;\n",
       "    }\n",
       "\n",
       "    .dataframe thead th {\n",
       "        text-align: right;\n",
       "    }\n",
       "</style>\n",
       "<table border=\"1\" class=\"dataframe\">\n",
       "  <thead>\n",
       "    <tr style=\"text-align: right;\">\n",
       "      <th></th>\n",
       "      <th>title</th>\n",
       "      <th>text_description</th>\n",
       "      <th>interaction_type</th>\n",
       "      <th>text_no_punc</th>\n",
       "    </tr>\n",
       "  </thead>\n",
       "  <tbody>\n",
       "    <tr>\n",
       "      <th>0</th>\n",
       "      <td>Ethereum, a Virtual Currency, Enables Transact...</td>\n",
       "      <td>All of this work is still very early. The firs...</td>\n",
       "      <td>content_present</td>\n",
       "      <td>All of this work is still very early The first...</td>\n",
       "    </tr>\n",
       "    <tr>\n",
       "      <th>1</th>\n",
       "      <td>Bitcoin Future: When GBPcoin of Branson Wins O...</td>\n",
       "      <td>The alarm clock wakes me at 8:00 with stream o...</td>\n",
       "      <td>content_present</td>\n",
       "      <td>The alarm clock wakes me at 800 with stream of...</td>\n",
       "    </tr>\n",
       "    <tr>\n",
       "      <th>2</th>\n",
       "      <td>Google Data Center 360° Tour</td>\n",
       "      <td>We're excited to share the Google Data Center ...</td>\n",
       "      <td>content_present</td>\n",
       "      <td>Were excited to share the Google Data Center 3...</td>\n",
       "    </tr>\n",
       "    <tr>\n",
       "      <th>3</th>\n",
       "      <td>IBM Wants to \"Evolve the Internet\" With Blockc...</td>\n",
       "      <td>The Aite Group projects the blockchain market ...</td>\n",
       "      <td>content_present</td>\n",
       "      <td>The Aite Group projects the blockchain market ...</td>\n",
       "    </tr>\n",
       "    <tr>\n",
       "      <th>4</th>\n",
       "      <td>IEEE to Talk Blockchain at Cloud Computing Oxf...</td>\n",
       "      <td>One of the largest and oldest organizations fo...</td>\n",
       "      <td>content_present</td>\n",
       "      <td>One of the largest and oldest organizations fo...</td>\n",
       "    </tr>\n",
       "  </tbody>\n",
       "</table>\n",
       "</div>"
      ],
      "text/plain": [
       "                                               title  \\\n",
       "0  Ethereum, a Virtual Currency, Enables Transact...   \n",
       "1  Bitcoin Future: When GBPcoin of Branson Wins O...   \n",
       "2                       Google Data Center 360° Tour   \n",
       "3  IBM Wants to \"Evolve the Internet\" With Blockc...   \n",
       "4  IEEE to Talk Blockchain at Cloud Computing Oxf...   \n",
       "\n",
       "                                    text_description interaction_type  \\\n",
       "0  All of this work is still very early. The firs...  content_present   \n",
       "1  The alarm clock wakes me at 8:00 with stream o...  content_present   \n",
       "2  We're excited to share the Google Data Center ...  content_present   \n",
       "3  The Aite Group projects the blockchain market ...  content_present   \n",
       "4  One of the largest and oldest organizations fo...  content_present   \n",
       "\n",
       "                                        text_no_punc  \n",
       "0  All of this work is still very early The first...  \n",
       "1  The alarm clock wakes me at 800 with stream of...  \n",
       "2  Were excited to share the Google Data Center 3...  \n",
       "3  The Aite Group projects the blockchain market ...  \n",
       "4  One of the largest and oldest organizations fo...  "
      ]
     },
     "execution_count": 78,
     "metadata": {},
     "output_type": "execute_result"
    }
   ],
   "source": [
    "trimmed.head()"
   ]
  },
  {
   "cell_type": "code",
   "execution_count": 79,
   "metadata": {},
   "outputs": [],
   "source": [
    "# Convert trimmed.text_no_punc to lowercase and assign to trimmed.text_no_punc_lower\n",
    "trimmed['text_no_punc_lower'] = trimmed.text_no_punc.str.lower()"
   ]
  },
  {
   "cell_type": "code",
   "execution_count": 80,
   "metadata": {},
   "outputs": [
    {
     "data": {
      "text/html": [
       "<div>\n",
       "<style scoped>\n",
       "    .dataframe tbody tr th:only-of-type {\n",
       "        vertical-align: middle;\n",
       "    }\n",
       "\n",
       "    .dataframe tbody tr th {\n",
       "        vertical-align: top;\n",
       "    }\n",
       "\n",
       "    .dataframe thead th {\n",
       "        text-align: right;\n",
       "    }\n",
       "</style>\n",
       "<table border=\"1\" class=\"dataframe\">\n",
       "  <thead>\n",
       "    <tr style=\"text-align: right;\">\n",
       "      <th></th>\n",
       "      <th>title</th>\n",
       "      <th>text_description</th>\n",
       "      <th>interaction_type</th>\n",
       "      <th>text_no_punc</th>\n",
       "      <th>text_no_punc_lower</th>\n",
       "    </tr>\n",
       "  </thead>\n",
       "  <tbody>\n",
       "    <tr>\n",
       "      <th>0</th>\n",
       "      <td>Ethereum, a Virtual Currency, Enables Transact...</td>\n",
       "      <td>All of this work is still very early. The firs...</td>\n",
       "      <td>content_present</td>\n",
       "      <td>All of this work is still very early The first...</td>\n",
       "      <td>all of this work is still very early the first...</td>\n",
       "    </tr>\n",
       "    <tr>\n",
       "      <th>1</th>\n",
       "      <td>Bitcoin Future: When GBPcoin of Branson Wins O...</td>\n",
       "      <td>The alarm clock wakes me at 8:00 with stream o...</td>\n",
       "      <td>content_present</td>\n",
       "      <td>The alarm clock wakes me at 800 with stream of...</td>\n",
       "      <td>the alarm clock wakes me at 800 with stream of...</td>\n",
       "    </tr>\n",
       "    <tr>\n",
       "      <th>2</th>\n",
       "      <td>Google Data Center 360° Tour</td>\n",
       "      <td>We're excited to share the Google Data Center ...</td>\n",
       "      <td>content_present</td>\n",
       "      <td>Were excited to share the Google Data Center 3...</td>\n",
       "      <td>were excited to share the google data center 3...</td>\n",
       "    </tr>\n",
       "    <tr>\n",
       "      <th>3</th>\n",
       "      <td>IBM Wants to \"Evolve the Internet\" With Blockc...</td>\n",
       "      <td>The Aite Group projects the blockchain market ...</td>\n",
       "      <td>content_present</td>\n",
       "      <td>The Aite Group projects the blockchain market ...</td>\n",
       "      <td>the aite group projects the blockchain market ...</td>\n",
       "    </tr>\n",
       "    <tr>\n",
       "      <th>4</th>\n",
       "      <td>IEEE to Talk Blockchain at Cloud Computing Oxf...</td>\n",
       "      <td>One of the largest and oldest organizations fo...</td>\n",
       "      <td>content_present</td>\n",
       "      <td>One of the largest and oldest organizations fo...</td>\n",
       "      <td>one of the largest and oldest organizations fo...</td>\n",
       "    </tr>\n",
       "  </tbody>\n",
       "</table>\n",
       "</div>"
      ],
      "text/plain": [
       "                                               title  \\\n",
       "0  Ethereum, a Virtual Currency, Enables Transact...   \n",
       "1  Bitcoin Future: When GBPcoin of Branson Wins O...   \n",
       "2                       Google Data Center 360° Tour   \n",
       "3  IBM Wants to \"Evolve the Internet\" With Blockc...   \n",
       "4  IEEE to Talk Blockchain at Cloud Computing Oxf...   \n",
       "\n",
       "                                    text_description interaction_type  \\\n",
       "0  All of this work is still very early. The firs...  content_present   \n",
       "1  The alarm clock wakes me at 8:00 with stream o...  content_present   \n",
       "2  We're excited to share the Google Data Center ...  content_present   \n",
       "3  The Aite Group projects the blockchain market ...  content_present   \n",
       "4  One of the largest and oldest organizations fo...  content_present   \n",
       "\n",
       "                                        text_no_punc  \\\n",
       "0  All of this work is still very early The first...   \n",
       "1  The alarm clock wakes me at 800 with stream of...   \n",
       "2  Were excited to share the Google Data Center 3...   \n",
       "3  The Aite Group projects the blockchain market ...   \n",
       "4  One of the largest and oldest organizations fo...   \n",
       "\n",
       "                                  text_no_punc_lower  \n",
       "0  all of this work is still very early the first...  \n",
       "1  the alarm clock wakes me at 800 with stream of...  \n",
       "2  were excited to share the google data center 3...  \n",
       "3  the aite group projects the blockchain market ...  \n",
       "4  one of the largest and oldest organizations fo...  "
      ]
     },
     "execution_count": 80,
     "metadata": {},
     "output_type": "execute_result"
    }
   ],
   "source": [
    "trimmed.head()"
   ]
  },
  {
   "attachments": {},
   "cell_type": "markdown",
   "metadata": {},
   "source": [
    "#### Build a WordCloud"
   ]
  },
  {
   "cell_type": "code",
   "execution_count": 81,
   "metadata": {},
   "outputs": [
    {
     "name": "stdout",
     "output_type": "stream",
     "text": [
      "Requirement already satisfied: wordcloud in c:\\users\\ksrs9\\anaconda3\\lib\\site-packages (1.8.2.2)\n",
      "Requirement already satisfied: matplotlib in c:\\users\\ksrs9\\anaconda3\\lib\\site-packages (from wordcloud) (3.5.2)\n",
      "Requirement already satisfied: pillow in c:\\users\\ksrs9\\anaconda3\\lib\\site-packages (from wordcloud) (9.2.0)\n",
      "Requirement already satisfied: numpy>=1.6.1 in c:\\users\\ksrs9\\anaconda3\\lib\\site-packages (from wordcloud) (1.21.5)\n",
      "Requirement already satisfied: fonttools>=4.22.0 in c:\\users\\ksrs9\\anaconda3\\lib\\site-packages (from matplotlib->wordcloud) (4.25.0)\n",
      "Requirement already satisfied: python-dateutil>=2.7 in c:\\users\\ksrs9\\anaconda3\\lib\\site-packages (from matplotlib->wordcloud) (2.8.2)\n",
      "Requirement already satisfied: cycler>=0.10 in c:\\users\\ksrs9\\anaconda3\\lib\\site-packages (from matplotlib->wordcloud) (0.11.0)\n",
      "Requirement already satisfied: packaging>=20.0 in c:\\users\\ksrs9\\anaconda3\\lib\\site-packages (from matplotlib->wordcloud) (21.3)\n",
      "Requirement already satisfied: pyparsing>=2.2.1 in c:\\users\\ksrs9\\anaconda3\\lib\\site-packages (from matplotlib->wordcloud) (3.0.9)\n",
      "Requirement already satisfied: kiwisolver>=1.0.1 in c:\\users\\ksrs9\\anaconda3\\lib\\site-packages (from matplotlib->wordcloud) (1.4.2)\n",
      "Requirement already satisfied: six>=1.5 in c:\\users\\ksrs9\\anaconda3\\lib\\site-packages (from python-dateutil>=2.7->matplotlib->wordcloud) (1.16.0)\n",
      "Note: you may need to restart the kernel to use updated packages.\n"
     ]
    }
   ],
   "source": [
    "%pip install wordcloud"
   ]
  },
  {
   "cell_type": "code",
   "execution_count": 82,
   "metadata": {},
   "outputs": [],
   "source": [
    "from wordcloud import WordCloud"
   ]
  },
  {
   "cell_type": "code",
   "execution_count": 83,
   "metadata": {},
   "outputs": [
    {
     "data": {
      "image/png": "[encoded data removed]",
      "text/plain": [
       "<PIL.Image.Image image mode=RGB size=400x200>"
      ]
     },
     "execution_count": 83,
     "metadata": {},
     "output_type": "execute_result"
    }
   ],
   "source": [
    "# Create a wordcloud of trimmed.text_no_punc_lower\n",
    "long_string = ','.join(trimmed.text_no_punc_lower)\n",
    "wc = WordCloud(background_color=\"white\", max_words=5000, contour_width=5, contour_color='steelblue')\n",
    "wc.generate(long_string)\n",
    "wc.to_image()"
   ]
  },
  {
   "attachments": {},
   "cell_type": "markdown",
   "metadata": {},
   "source": [
    "#### Prepare the data for LDA"
   ]
  },
  {
   "cell_type": "code",
   "execution_count": 84,
   "metadata": {},
   "outputs": [
    {
     "name": "stdout",
     "output_type": "stream",
     "text": [
      "Requirement already satisfied: gensim in c:\\users\\ksrs9\\anaconda3\\lib\\site-packages (4.1.2)\n",
      "Requirement already satisfied: scipy>=0.18.1 in c:\\users\\ksrs9\\anaconda3\\lib\\site-packages (from gensim) (1.9.1)\n",
      "Requirement already satisfied: smart-open>=1.8.1 in c:\\users\\ksrs9\\anaconda3\\lib\\site-packages (from gensim) (5.2.1)\n",
      "Requirement already satisfied: numpy>=1.17.0 in c:\\users\\ksrs9\\anaconda3\\lib\\site-packages (from gensim) (1.21.5)\n",
      "Note: you may need to restart the kernel to use updated packages.\n"
     ]
    }
   ],
   "source": [
    "%pip install gensim"
   ]
  },
  {
   "cell_type": "code",
   "execution_count": 85,
   "metadata": {},
   "outputs": [
    {
     "name": "stderr",
     "output_type": "stream",
     "text": [
      "[nltk_data] Downloading package stopwords to\n",
      "[nltk_data]     C:\\Users\\ksrs9\\AppData\\Roaming\\nltk_data...\n",
      "[nltk_data]   Package stopwords is already up-to-date!\n"
     ]
    }
   ],
   "source": [
    "import gensim\n",
    "from gensim.utils import simple_preprocess\n",
    "\n",
    "import nltk\n",
    "nltk.download('stopwords')\n",
    "from nltk.corpus import stopwords"
   ]
  },
  {
   "cell_type": "code",
   "execution_count": 86,
   "metadata": {},
   "outputs": [],
   "source": [
    "stopwords_en = stopwords.words('english')"
   ]
  },
  {
   "cell_type": "code",
   "execution_count": 87,
   "metadata": {},
   "outputs": [],
   "source": [
    "# Define a function to convert sentences to words using gensim's simple_preprocess\n",
    "def sentences_to_words(sentences):\n",
    "    for sentence in sentences:\n",
    "        yield(simple_preprocess(str(sentence), deacc=True))\n",
    "\n",
    "# define a function to remove stopwords\n",
    "# def remove_stopwords(words):\n",
    "    # return [w for w in words if w not in stopwords_en]"
   ]
  },
  {
   "cell_type": "code",
   "execution_count": 88,
   "metadata": {},
   "outputs": [],
   "source": [
    "# Define a function to remove stopwords using gensim's simple_preprocess\n",
    "def remove_stopwords(docs):\n",
    "    return [[word for word in simple_preprocess(str(doc)) if word not in stopwords_en] for doc in docs]"
   ]
  },
  {
   "cell_type": "code",
   "execution_count": 89,
   "metadata": {},
   "outputs": [],
   "source": [
    "data = trimmed.text_description.values.tolist()\n",
    "data_words = list(sentences_to_words(data))"
   ]
  },
  {
   "cell_type": "code",
   "execution_count": 90,
   "metadata": {},
   "outputs": [
    {
     "name": "stdout",
     "output_type": "stream",
     "text": [
      "['all', 'of', 'this', 'work', 'is', 'still', 'very', 'early', 'the', 'first', 'full', 'public', 'version', 'of', 'the', 'ethereum', 'software', 'was', 'recently', 'released', 'and', 'the', 'system', 'could', 'face', 'some', 'of', 'the', 'same', 'technical', 'and', 'legal', 'problems', 'that', 'have', 'tarnished', 'bitcoin', 'many', 'bitcoin', 'advocates', 'say', 'ethereum', 'will', 'face', 'more', 'security', 'problems', 'than', 'bitcoin', 'because', 'of', 'the', 'greater', 'complexity', 'of', 'the', 'software', 'thus', 'far', 'ethereum', 'has', 'faced', 'much', 'less', 'testing', 'and', 'many', 'fewer', 'attacks', 'than', 'bitcoin', 'the', 'novel', 'design', 'of', 'ethereum', 'may', 'also', 'invite', 'intense', 'scrutiny', 'by', 'authorities', 'given', 'that', 'potentially', 'fraudulent', 'contracts', 'like', 'the', 'ponzi', 'schemes', 'can', 'be', 'written', 'directly', 'into', 'the', 'ethereum', 'system', 'but', 'the', 'sophisticated', 'capabilities', 'of', 'the', 'system', 'have', 'made', 'it', 'fascinating', 'to', 'some', 'executives', 'in', 'corporate', 'america', 'ibm', 'said', 'last_year', 'that', 'it', 'was', 'experimenting', 'with', 'ethereum', 'as', 'way', 'to', 'control', 'real', 'world', 'objects', 'in', 'the', 'so', 'called', 'internet', 'of', 'things', 'microsoft', 'has', 'been', 'working', 'on', 'several', 'projects', 'that', 'make', 'it', 'easier', 'to', 'use', 'ethereum', 'on', 'its', 'computing', 'cloud', 'azure', 'ethereum', 'is', 'general', 'platform', 'where', 'you', 'can', 'solve', 'problems', 'in', 'many', 'industries', 'using', 'fairly', 'elegant', 'solution', 'the', 'most', 'elegant', 'solution', 'we', 'have', 'seen', 'to', 'date', 'said', 'marley', 'gray', 'director', 'of', 'business', 'development', 'and', 'strategy', 'at', 'microsoft', 'mr', 'gray', 'is', 'responsible', 'for', 'microsoft', 'work', 'with', 'blockchains', 'the', 'database', 'concept', 'that', 'bitcoin', 'introduced', 'blockchains', 'are', 'designed', 'to', 'store', 'transactions', 'and', 'data', 'without', 'requiring', 'any', 'central', 'authority', 'or', 'repository', 'blockchain', 'ledgers', 'are', 'generally', 'maintained', 'and', 'updated', 'by', 'networks', 'of', 'computers', 'working', 'together', 'somewhat', 'similar', 'to', 'the', 'way', 'that', 'wikipedia', 'is', 'updated', 'and', 'maintained', 'by', 'all', 'its', 'users', 'many', 'corporations', 'though', 'have', 'created', 'their', 'own', 'ethereum', 'networks', 'with', 'private', 'blockchains', 'independent', 'of', 'the', 'public', 'system', 'and', 'that', 'could', 'ultimately', 'detract', 'from', 'the', 'value', 'of', 'the', 'individual', 'unit', 'in', 'the', 'ethereum', 'system', 'known', 'as', 'an', 'ether', 'that', 'people', 'have', 'recently', 'been', 'buying', 'the', 'interest', 'in', 'ethereum', 'is', 'one', 'sign', 'of', 'the', 'corporate', 'fascination', 'with', 'blockchains', 'most', 'major', 'banks', 'have', 'expressed', 'an', 'interest', 'in', 'using', 'them', 'to', 'make', 'trading', 'and', 'money', 'transfer', 'faster', 'and', 'more', 'efficient', 'on', 'tuesday', 'executives', 'from', 'the', 'largest', 'banks', 'will', 'gather', 'for', 'conference', 'blockchain', 'tapping', 'nto', 'the', 'real', 'potential', 'cutting', 'through', 'the', 'hype', 'many', 'of', 'these', 'banks', 'have', 'recently', 'been', 'looking', 'at', 'how', 'some', 'version', 'of', 'ethereum', 'might', 'be', 'put', 'to', 'use', 'jpmorgan', 'for', 'instance', 'has', 'created', 'specific', 'tool', 'masala', 'that', 'allows', 'some', 'of', 'its', 'internal', 'databases', 'to', 'interact', 'with', 'an', 'ethereum', 'blockchain', 'michael', 'novogratz', 'former', 'top', 'executive', 'at', 'the', 'private', 'equity', 'firm', 'fortress', 'investing', 'group', 'who', 'helped', 'lead', 'fortress', 'investment', 'in', 'bitcoin', 'has', 'been', 'looking', 'at', 'ethereum', 'since', 'he', 'left', 'fortress', 'last', 'fall', 'mr', 'novogratz', 'said', 'that', 'he', 'made', 'significant', 'purchase', 'of', 'ether', 'in', 'january', 'he', 'has', 'also', 'heard', 'how', 'the', 'financial', 'industry', 'chatter', 'about', 'the', 'virtual_currency', 'has', 'evolved', 'lot', 'of', 'the', 'more', 'established', 'players', 'were', 'thinking', 'it', 'still', 'an', 'experiment', 'he', 'said', 'it', 'feels', 'like', 'in', 'the', 'last', 'two', 'to', 'three', 'months', 'that', 'experiment', 'is', 'at', 'least', 'getting', 'lot', 'more', 'validation', 'since', 'the', 'beginning', 'of', 'the', 'year', 'the', 'value', 'of', 'an', 'individual', 'unit', 'of', 'ether', 'has', 'soared', 'as', 'high', 'as', 'from', 'around', 'that', 'has', 'brought', 'the', 'value', 'of', 'all', 'existing', 'ether', 'to', 'over', 'billion', 'at', 'times', 'significantly', 'more', 'than', 'any', 'virtual_currency', 'other', 'than', 'bitcoin', 'which', 'had', 'over', 'billion', 'in', 'value', 'outstanding', 'last_week', 'since', 'bitcoin', 'was', 'invented', 'there', 'have', 'been', 'many', 'so', 'called', 'alt', 'coins', 'that', 'have', 'tried', 'to', 'improve', 'on', 'bitcoin', 'but', 'none', 'have', 'won', 'the', 'following', 'of', 'ethereum', 'unlike', 'bitcoin', 'which', 'was', 'released', 'in', 'by', 'mysterious', 'creator', 'known', 'as', 'satoshi_nakamoto', 'ethereum', 'was', 'created', 'in', 'more', 'transparent', 'fashion', 'by', 'year', 'old', 'russian', 'canadian', 'vitalik_buterin', 'after', 'he', 'dropped', 'out', 'of', 'waterloo', 'university', 'in', 'ontario', 'the', 'most', 'basic', 'aim', 'of', 'ethereum', 'was', 'to', 'make', 'it', 'possible', 'to', 'program', 'binding', 'agreements', 'into', 'the', 'blockchain', 'the', 'smart_contract', 'concept', 'two', 'people', 'for', 'instance', 'could', 'program', 'bet', 'on', 'sports', 'game', 'directly', 'into', 'the', 'ethereum', 'blockchain', 'once', 'the', 'final', 'score', 'came', 'in', 'from', 'mutually', 'agreed_upon', 'source', 'say', 'the', 'associated', 'press', 'the', 'money', 'would', 'be', 'automatically', 'transferred', 'to', 'the', 'winning', 'party', 'ether', 'can', 'be', 'used', 'as', 'currency', 'in', 'this', 'system', 'but', 'ether', 'are', 'also', 'necessary', 'to', 'pay', 'for', 'the', 'network', 'power', 'needed', 'to', 'process', 'the', 'bet', 'the', 'ethereum', 'system', 'has', 'sometimes', 'been', 'described', 'as', 'single', 'shared', 'computer', 'that', 'is', 'run', 'by', 'the', 'network', 'of', 'users', 'and', 'on', 'which', 'resources', 'are', 'parceled', 'out', 'and', 'paid', 'for', 'by', 'ether', 'team', 'of', 'seven', 'co_founders', 'helped', 'mr', 'buterin', 'write', 'up', 'the', 'software', 'after', 'he', 'released', 'the', 'initial', 'description', 'of', 'the', 'system', 'mr', 'buterin', 'team', 'raised_million', 'in', 'through', 'presale', 'of', 'ether', 'which', 'helped', 'fund', 'the', 'ethereum', 'foundation', 'which', 'supports', 'the', 'software', 'development', 'like', 'bitcoin', 'ethereum', 'has', 'succeeded', 'by', 'attracting', 'dedicated', 'network', 'of', 'followers', 'who', 'have', 'helped', 'support', 'the', 'software', 'partly', 'in', 'the', 'hope', 'that', 'their', 'ether', 'will', 'increase', 'in', 'value', 'if', 'the', 'system', 'succeeds', 'last_week', 'there', 'were', 'computers', 'or', 'nodes', 'helping', 'support', 'the', 'network', 'around', 'the', 'world', 'the', 'bitcoin', 'network', 'had', 'about', 'nodes', 'one', 'of', 'mr', 'buterin', 'co_founders', 'joseph', 'lubin', 'has', 'set', 'up', 'consensys', 'company', 'based', 'in', 'brooklyn', 'that', 'has', 'hired', 'over', 'developers', 'to', 'build', 'applications', 'on', 'the', 'ethereum', 'system', 'including', 'one', 'that', 'enables', 'music', 'distribution', 'and', 'another', 'that', 'allows', 'for', 'new', 'kind', 'of', 'financial', 'auditing', 'the', 'consensys', 'offices', 'are', 'in', 'an', 'old', 'industrial', 'building', 'in', 'the', 'bushwick', 'section', 'of', 'brooklyn', 'the', 'office', 'is', 'essentially', 'one', 'large', 'room', 'with', 'all', 'the', 'messy', 'trademarks', 'of', 'start', 'up', 'operation', 'including', 'white', 'boards', 'on', 'the', 'walls', 'and', 'computer', 'parts', 'lying', 'around', 'mr', 'lubin', 'said', 'he', 'had', 'thrown', 'himself', 'into', 'ethereum', 'after', 'starting', 'to', 'think', 'that', 'it', 'delivered', 'on', 'some', 'of', 'the', 'failed', 'promise', 'of', 'bitcoin', 'especially', 'when', 'it', 'came', 'to', 'allowing', 'new', 'kinds', 'of', 'online', 'contracts', 'and', 'markets', 'bitcoin', 'presented', 'the', 'broad', 'strokes', 'vision', 'and', 'ethereum', 'presented', 'the', 'crystallization', 'of', 'how', 'to', 'deliver', 'that', 'vision', 'he', 'said', 'joseph', 'bonneau', 'computer_science', 'researcher', 'at', 'stanford', 'who', 'studies', 'so', 'called', 'crypto', 'currencies', 'said', 'ethereum', 'was', 'the', 'first', 'system', 'that', 'had', 'really', 'caught', 'his', 'interest', 'since', 'bitcoin', 'it', 'is', 'far', 'from', 'sure', 'thing', 'he', 'cautioned', 'bitcoin', 'is', 'still', 'probably', 'the', 'safest', 'bet', 'but', 'ethereum', 'is', 'certainly', 'no', 'and', 'some', 'folks', 'will', 'say', 'it', 'is', 'more', 'likely', 'to', 'be', 'around', 'in', 'years', 'mr', 'bonneau', 'said', 'it', 'will', 'depend', 'if', 'any', 'real', 'markets', 'develop', 'around', 'it', 'if', 'there', 'is', 'some', 'actual', 'application']\n"
     ]
    }
   ],
   "source": [
    "# Create bigram and trigram models\n",
    "bigram = gensim.models.Phrases(data_words, min_count=5, threshold=100) # higher threshold fewer phrases.\n",
    "trigram = gensim.models.Phrases(bigram[data_words], threshold=100)\n",
    "\n",
    "# Faster way to get a sentence clubbed as a trigram/bigram\n",
    "bigram_mod = gensim.models.phrases.Phraser(bigram)\n",
    "trigram_mod = gensim.models.phrases.Phraser(trigram)\n",
    "\n",
    "# See trigram example\n",
    "print(trigram_mod[bigram_mod[data_words[0]]])"
   ]
  },
  {
   "cell_type": "code",
   "execution_count": 91,
   "metadata": {},
   "outputs": [],
   "source": [
    "# Define a function to make bigrams\n",
    "def make_bigrams(texts):\n",
    "    return [bigram_mod[doc] for doc in texts]"
   ]
  },
  {
   "cell_type": "code",
   "execution_count": 92,
   "metadata": {},
   "outputs": [
    {
     "name": "stdout",
     "output_type": "stream",
     "text": [
      "Requirement already satisfied: spacy in c:\\users\\ksrs9\\anaconda3\\lib\\site-packages (3.5.0)\n",
      "Requirement already satisfied: setuptools in c:\\users\\ksrs9\\anaconda3\\lib\\site-packages (from spacy) (63.4.1)\n",
      "Requirement already satisfied: packaging>=20.0 in c:\\users\\ksrs9\\anaconda3\\lib\\site-packages (from spacy) (21.3)\n",
      "Requirement already satisfied: smart-open<7.0.0,>=5.2.1 in c:\\users\\ksrs9\\anaconda3\\lib\\site-packages (from spacy) (5.2.1)\n",
      "Requirement already satisfied: murmurhash<1.1.0,>=0.28.0 in c:\\users\\ksrs9\\anaconda3\\lib\\site-packages (from spacy) (1.0.9)\n",
      "Requirement already satisfied: thinc<8.2.0,>=8.1.0 in c:\\users\\ksrs9\\anaconda3\\lib\\site-packages (from spacy) (8.1.7)\n",
      "Requirement already satisfied: pydantic!=1.8,!=1.8.1,<1.11.0,>=1.7.4 in c:\\users\\ksrs9\\anaconda3\\lib\\site-packages (from spacy) (1.10.4)\n",
      "Requirement already satisfied: cymem<2.1.0,>=2.0.2 in c:\\users\\ksrs9\\anaconda3\\lib\\site-packages (from spacy) (2.0.7)\n",
      "Requirement already satisfied: spacy-legacy<3.1.0,>=3.0.11 in c:\\users\\ksrs9\\anaconda3\\lib\\site-packages (from spacy) (3.0.12)\n",
      "Requirement already satisfied: tqdm<5.0.0,>=4.38.0 in c:\\users\\ksrs9\\anaconda3\\lib\\site-packages (from spacy) (4.64.1)\n",
      "Requirement already satisfied: langcodes<4.0.0,>=3.2.0 in c:\\users\\ksrs9\\anaconda3\\lib\\site-packages (from spacy) (3.3.0)\n",
      "Requirement already satisfied: pathy>=0.10.0 in c:\\users\\ksrs9\\anaconda3\\lib\\site-packages (from spacy) (0.10.1)\n",
      "Requirement already satisfied: spacy-loggers<2.0.0,>=1.0.0 in c:\\users\\ksrs9\\anaconda3\\lib\\site-packages (from spacy) (1.0.4)\n",
      "Requirement already satisfied: catalogue<2.1.0,>=2.0.6 in c:\\users\\ksrs9\\anaconda3\\lib\\site-packages (from spacy) (2.0.8)\n",
      "Requirement already satisfied: preshed<3.1.0,>=3.0.2 in c:\\users\\ksrs9\\anaconda3\\lib\\site-packages (from spacy) (3.0.8)\n",
      "Requirement already satisfied: numpy>=1.15.0 in c:\\users\\ksrs9\\anaconda3\\lib\\site-packages (from spacy) (1.21.5)\n",
      "Requirement already satisfied: requests<3.0.0,>=2.13.0 in c:\\users\\ksrs9\\anaconda3\\lib\\site-packages (from spacy) (2.28.1)\n",
      "Requirement already satisfied: wasabi<1.2.0,>=0.9.1 in c:\\users\\ksrs9\\anaconda3\\lib\\site-packages (from spacy) (1.1.1)\n",
      "Requirement already satisfied: jinja2 in c:\\users\\ksrs9\\anaconda3\\lib\\site-packages (from spacy) (2.11.3)\n",
      "Requirement already satisfied: typer<0.8.0,>=0.3.0 in c:\\users\\ksrs9\\anaconda3\\lib\\site-packages (from spacy) (0.7.0)\n",
      "Requirement already satisfied: srsly<3.0.0,>=2.4.3 in c:\\users\\ksrs9\\anaconda3\\lib\\site-packages (from spacy) (2.4.5)\n",
      "Requirement already satisfied: pyparsing!=3.0.5,>=2.0.2 in c:\\users\\ksrs9\\anaconda3\\lib\\site-packages (from packaging>=20.0->spacy) (3.0.9)\n",
      "Requirement already satisfied: typing-extensions>=4.2.0 in c:\\users\\ksrs9\\anaconda3\\lib\\site-packages (from pydantic!=1.8,!=1.8.1,<1.11.0,>=1.7.4->spacy) (4.3.0)\n",
      "Requirement already satisfied: urllib3<1.27,>=1.21.1 in c:\\users\\ksrs9\\anaconda3\\lib\\site-packages (from requests<3.0.0,>=2.13.0->spacy) (1.26.11)\n",
      "Requirement already satisfied: certifi>=2017.4.17 in c:\\users\\ksrs9\\anaconda3\\lib\\site-packages (from requests<3.0.0,>=2.13.0->spacy) (2022.9.14)\n",
      "Requirement already satisfied: charset-normalizer<3,>=2 in c:\\users\\ksrs9\\anaconda3\\lib\\site-packages (from requests<3.0.0,>=2.13.0->spacy) (2.0.4)\n",
      "Requirement already satisfied: idna<4,>=2.5 in c:\\users\\ksrs9\\anaconda3\\lib\\site-packages (from requests<3.0.0,>=2.13.0->spacy) (3.3)\n",
      "Requirement already satisfied: blis<0.8.0,>=0.7.8 in c:\\users\\ksrs9\\anaconda3\\lib\\site-packages (from thinc<8.2.0,>=8.1.0->spacy) (0.7.9)\n",
      "Requirement already satisfied: confection<1.0.0,>=0.0.1 in c:\\users\\ksrs9\\anaconda3\\lib\\site-packages (from thinc<8.2.0,>=8.1.0->spacy) (0.0.4)\n",
      "Requirement already satisfied: colorama in c:\\users\\ksrs9\\anaconda3\\lib\\site-packages (from tqdm<5.0.0,>=4.38.0->spacy) (0.4.6)\n",
      "Requirement already satisfied: click<9.0.0,>=7.1.1 in c:\\users\\ksrs9\\anaconda3\\lib\\site-packages (from typer<0.8.0,>=0.3.0->spacy) (8.0.4)\n",
      "Requirement already satisfied: MarkupSafe>=0.23 in c:\\users\\ksrs9\\anaconda3\\lib\\site-packages (from jinja2->spacy) (2.0.1)\n",
      "Note: you may need to restart the kernel to use updated packages.\n"
     ]
    }
   ],
   "source": [
    "%pip install spacy"
   ]
  },
  {
   "cell_type": "code",
   "execution_count": 93,
   "metadata": {},
   "outputs": [],
   "source": [
    "import spacy\n",
    "nlp = spacy.load(\"en_core_web_sm\")"
   ]
  },
  {
   "cell_type": "code",
   "execution_count": 94,
   "metadata": {},
   "outputs": [],
   "source": [
    "# Define a function to lemmatize given texts\n",
    "def lemmatization(texts, allowed_postags=['NOUN', 'ADJ', 'VERB', 'ADV']):\n",
    "    texts_out = []\n",
    "    for sent in texts:\n",
    "        doc = nlp(\" \".join(sent))\n",
    "        texts_out.append([token.lemma_ for token in doc if token.pos_ in allowed_postags])\n",
    "    return texts_out"
   ]
  },
  {
   "cell_type": "code",
   "execution_count": 95,
   "metadata": {},
   "outputs": [],
   "source": [
    "# Remove Stop Words\n",
    "data_words_nostops = remove_stopwords(data_words)\n",
    "\n",
    "# Form Bigrams\n",
    "data_words_bigrams = make_bigrams(data_words_nostops)\n",
    "\n",
    "# Do lemmatization keeping only noun, adj, vb, adv\n",
    "data_lemmatized = lemmatization(data_words_bigrams)"
   ]
  },
  {
   "cell_type": "code",
   "execution_count": null,
   "metadata": {},
   "outputs": [],
   "source": []
  },
  {
   "cell_type": "code",
   "execution_count": null,
   "metadata": {},
   "outputs": [],
   "source": []
  },
  {
   "cell_type": "code",
   "execution_count": null,
   "metadata": {},
   "outputs": [],
   "source": []
  },
  {
   "cell_type": "code",
   "execution_count": null,
   "metadata": {},
   "outputs": [],
   "source": []
  },
  {
   "cell_type": "code",
   "execution_count": null,
   "metadata": {},
   "outputs": [],
   "source": []
  },
  {
   "cell_type": "code",
   "execution_count": null,
   "metadata": {},
   "outputs": [],
   "source": []
  },
  {
   "cell_type": "code",
   "execution_count": null,
   "metadata": {},
   "outputs": [],
   "source": []
  },
  {
   "cell_type": "code",
   "execution_count": null,
   "metadata": {},
   "outputs": [],
   "source": []
  },
  {
   "cell_type": "code",
   "execution_count": 96,
   "metadata": {},
   "outputs": [],
   "source": [
    "# sentences = trimmed.text_description.values.tolist()"
   ]
  },
  {
   "cell_type": "code",
   "execution_count": 97,
   "metadata": {},
   "outputs": [],
   "source": [
    "# words_array = list(sentences_to_words(sentences))"
   ]
  },
  {
   "cell_type": "code",
   "execution_count": 98,
   "metadata": {},
   "outputs": [],
   "source": [
    "# words_array[0]"
   ]
  },
  {
   "cell_type": "code",
   "execution_count": 99,
   "metadata": {},
   "outputs": [],
   "source": [
    "# no_stopwords = [remove_stopwords(words) for words in words_array]"
   ]
  },
  {
   "cell_type": "code",
   "execution_count": 100,
   "metadata": {},
   "outputs": [],
   "source": [
    "# no_stopwords[0]"
   ]
  },
  {
   "attachments": {},
   "cell_type": "markdown",
   "metadata": {},
   "source": [
    "Build a Dictionary"
   ]
  },
  {
   "cell_type": "code",
   "execution_count": 101,
   "metadata": {},
   "outputs": [],
   "source": [
    "from gensim.corpora import Dictionary\n",
    "\n",
    "data_dictionary = Dictionary(data_lemmatized)\n",
    "corpus = [data_dictionary.doc2bow(word_arr) for word_arr in data_lemmatized]"
   ]
  },
  {
   "cell_type": "code",
   "execution_count": 102,
   "metadata": {},
   "outputs": [],
   "source": [
    "# data_dictionary.doc2bow(words[0])\n",
    "# len(words[0])\n",
    "# words[0][13]"
   ]
  },
  {
   "cell_type": "code",
   "execution_count": null,
   "metadata": {},
   "outputs": [],
   "source": []
  },
  {
   "cell_type": "code",
   "execution_count": null,
   "metadata": {},
   "outputs": [],
   "source": []
  },
  {
   "cell_type": "code",
   "execution_count": 103,
   "metadata": {},
   "outputs": [],
   "source": [
    "# corpus[0]"
   ]
  },
  {
   "cell_type": "code",
   "execution_count": 131,
   "metadata": {},
   "outputs": [],
   "source": [
    "# num_topics = 20"
   ]
  },
  {
   "cell_type": "code",
   "execution_count": 133,
   "metadata": {},
   "outputs": [],
   "source": [
    "update_every = [1, 2, 5, 10]\n",
    "chunksize = [10, 20, 25, 50, 75, 100]\n",
    "passes = [1, 2, 5, 10]\n",
    "num_topics = [5, 10, 15, 20, 25, 30, 35, 40, 45, 50]"
   ]
  },
  {
   "cell_type": "code",
   "execution_count": 134,
   "metadata": {},
   "outputs": [
    {
     "data": {
      "text/plain": [
       "<itertools.product at 0x228354a90c0>"
      ]
     },
     "execution_count": 134,
     "metadata": {},
     "output_type": "execute_result"
    }
   ],
   "source": [
    "import itertools"
   ]
  },
  {
   "cell_type": "code",
   "execution_count": 136,
   "metadata": {},
   "outputs": [],
   "source": [
    "# Create a DataFrame to store the results\n",
    "results = pd.DataFrame(columns=['update_every', 'chunksize', 'passes', 'num_topics', 'perplexity', 'coherence'])"
   ]
  },
  {
   "cell_type": "code",
   "execution_count": 135,
   "metadata": {},
   "outputs": [
    {
     "name": "stdout",
     "output_type": "stream",
     "text": [
      "(1, 10, 1, 5)\n"
     ]
    }
   ],
   "source": [
    "for x in itertools.product(update_every, chunksize, passes, num_topics):\n",
    "    (ue, cs, p, nt) = x\n",
    "    lda_model = gensim.models.ldamodel.LdaModel(\n",
    "        corpus=corpus, \n",
    "        id2word=data_dictionary, \n",
    "        random_state=42, \n",
    "        alpha='auto', \n",
    "        eta='auto',\n",
    "        num_topics=nt, \n",
    "        update_every=ue, \n",
    "        chunksize=cs, \n",
    "        passes=p, \n",
    "        per_word_topics=True\n",
    "    )\n",
    "    \n",
    "    # Compute Perplexity\n",
    "    perplexity = lda_model.log_perplexity(corpus)\n",
    "\n",
    "    # Compute Coherence Score\n",
    "    coherence_model_lda = gensim.models.CoherenceModel(model=lda_model, texts=data_lemmatized, dictionary=data_dictionary, coherence='c_v')\n",
    "    coherence = coherence_model_lda.get_coherence()\n",
    "\n",
    "    results = results.append({'update_every': ue, 'chunksize': cs, 'passes': p, 'num_topics': nt, 'perplexity': perplexity, 'coherence': coherence}, ignore_index=True)"
   ]
  },
  {
   "cell_type": "code",
   "execution_count": null,
   "metadata": {},
   "outputs": [],
   "source": [
    "lda_model = gensim.models.ldamodel.LdaModel(\n",
    "    corpus=corpus, \n",
    "    id2word=data_dictionary, \n",
    "    num_topics=num_topics, \n",
    "    random_state=42, \n",
    "    update_every=1, \n",
    "    chunksize=50, \n",
    "    passes=10, \n",
    "    alpha='auto', \n",
    "    eta='auto',\n",
    "    per_word_topics=True\n",
    ")"
   ]
  },
  {
   "cell_type": "code",
   "execution_count": 129,
   "metadata": {},
   "outputs": [
    {
     "data": {
      "text/plain": [
       "[(0,\n",
       "  '0.017*\"use\" + 0.012*\"application\" + 0.012*\"service\" + 0.009*\"api\" + 0.008*\"developer\" + 0.008*\"new\" + 0.007*\"code\" + 0.007*\"also\" + 0.007*\"support\" + 0.007*\"build\"'),\n",
       " (1,\n",
       "  '0.021*\"cloud\" + 0.019*\"event\" + 0.012*\"service\" + 0.010*\"work\" + 0.010*\"evernote\" + 0.010*\"system\" + 0.009*\"domain\" + 0.008*\"microservice\" + 0.008*\"datum\" + 0.008*\"use\"'),\n",
       " (2,\n",
       "  '0.028*\"use\" + 0.022*\"code\" + 0.020*\"event\" + 0.016*\"method\" + 0.014*\"view\" + 0.012*\"file\" + 0.011*\"list\" + 0.010*\"java\" + 0.010*\"stream\" + 0.009*\"call\"'),\n",
       " (3,\n",
       "  '0.010*\"use\" + 0.009*\"get\" + 0.008*\"search\" + 0.007*\"good\" + 0.007*\"site\" + 0.006*\"make\" + 0.006*\"people\" + 0.006*\"page\" + 0.006*\"year\" + 0.006*\"time\"'),\n",
       " (4,\n",
       "  '0.009*\"say\" + 0.009*\"new\" + 0.007*\"company\" + 0.006*\"year\" + 0.006*\"make\" + 0.005*\"device\" + 0.005*\"apple\" + 0.005*\"see\" + 0.005*\"get\" + 0.004*\"consumer\"'),\n",
       " (5,\n",
       "  '0.019*\"customer\" + 0.016*\"company\" + 0.010*\"business\" + 0.009*\"new\" + 0.009*\"digital\" + 0.008*\"technology\" + 0.007*\"experience\" + 0.007*\"service\" + 0.006*\"platform\" + 0.005*\"product\"'),\n",
       " (6,\n",
       "  '0.021*\"blockchain\" + 0.018*\"bitcoin\" + 0.014*\"smart_contract\" + 0.010*\"use\" + 0.010*\"transaction\" + 0.010*\"payment\" + 0.008*\"financial\" + 0.008*\"database\" + 0.007*\"bank\" + 0.007*\"datum\"'),\n",
       " (7,\n",
       "  '0.022*\"user\" + 0.012*\"app\" + 0.012*\"use\" + 0.009*\"product\" + 0.008*\"time\" + 0.007*\"need\" + 0.007*\"platform\" + 0.006*\"mobile\" + 0.005*\"email\" + 0.005*\"new\"'),\n",
       " (8,\n",
       "  '0.014*\"work\" + 0.013*\"make\" + 0.011*\"people\" + 0.010*\"time\" + 0.009*\"thing\" + 0.008*\"see\" + 0.008*\"go\" + 0.008*\"book\" + 0.007*\"say\" + 0.007*\"know\"'),\n",
       " (9,\n",
       "  '0.082*\"drupal\" + 0.047*\"content\" + 0.032*\"site\" + 0.028*\"php\" + 0.022*\"workflow\" + 0.014*\"feature\" + 0.012*\"different\" + 0.010*\"map\" + 0.009*\"state\" + 0.009*\"publish\"'),\n",
       " (10,\n",
       "  '0.036*\"team\" + 0.017*\"work\" + 0.015*\"project\" + 0.013*\"software\" + 0.012*\"change\" + 0.009*\"need\" + 0.008*\"way\" + 0.008*\"build\" + 0.008*\"agile\" + 0.008*\"time\"'),\n",
       " (11,\n",
       "  '0.025*\"use\" + 0.017*\"message\" + 0.017*\"bot\" + 0.015*\"user\" + 0.015*\"page\" + 0.012*\"create\" + 0.011*\"docker\" + 0.011*\"command\" + 0.010*\"app\" + 0.010*\"send\"'),\n",
       " (12,\n",
       "  '0.024*\"datum\" + 0.011*\"use\" + 0.008*\"system\" + 0.007*\"database\" + 0.006*\"time\" + 0.006*\"machine_learne\" + 0.006*\"model\" + 0.006*\"user\" + 0.006*\"event\" + 0.005*\"ai\"'),\n",
       " (13,\n",
       "  '0.023*\"use\" + 0.014*\"image\" + 0.012*\"element\" + 0.011*\"browser\" + 0.011*\"performance\" + 0.010*\"time\" + 0.008*\"polymer\" + 0.006*\"set\" + 0.006*\"render\" + 0.006*\"need\"')]"
      ]
     },
     "execution_count": 129,
     "metadata": {},
     "output_type": "execute_result"
    }
   ],
   "source": [
    "# from pprint import pprint\n",
    "# pprint(lda_model.print_topics())\n",
    "lda_model.print_topics()"
   ]
  },
  {
   "cell_type": "code",
   "execution_count": null,
   "metadata": {},
   "outputs": [],
   "source": [
    "doc_lda = lda_model[corpus]"
   ]
  },
  {
   "attachments": {},
   "cell_type": "markdown",
   "metadata": {},
   "source": [
    "Evaluation"
   ]
  },
  {
   "cell_type": "code",
   "execution_count": 130,
   "metadata": {},
   "outputs": [
    {
     "data": {
      "text/plain": [
       "-8.046143342868547"
      ]
     },
     "execution_count": 130,
     "metadata": {},
     "output_type": "execute_result"
    }
   ],
   "source": [
    "lda_model.log_perplexity(corpus)"
   ]
  },
  {
   "cell_type": "code",
   "execution_count": null,
   "metadata": {},
   "outputs": [],
   "source": [
    "doc_lda"
   ]
  },
  {
   "cell_type": "code",
   "execution_count": null,
   "metadata": {},
   "outputs": [],
   "source": [
    "doc_lda[0]"
   ]
  },
  {
   "cell_type": "code",
   "execution_count": null,
   "metadata": {},
   "outputs": [],
   "source": [
    "lda_model.get_document_topics(corpus[0], minimum_probability=0.01)"
   ]
  },
  {
   "cell_type": "code",
   "execution_count": null,
   "metadata": {},
   "outputs": [],
   "source": [
    "lda_model.show_topic(0)"
   ]
  },
  {
   "cell_type": "code",
   "execution_count": null,
   "metadata": {},
   "outputs": [],
   "source": [
    "all_topics = lda_model.get_document_topics(corpus, minimum_probability=0.01)"
   ]
  },
  {
   "cell_type": "code",
   "execution_count": null,
   "metadata": {},
   "outputs": [],
   "source": [
    "all_topics_matrix = gensim.matutils.corpus2csc(all_topics)"
   ]
  },
  {
   "cell_type": "code",
   "execution_count": null,
   "metadata": {},
   "outputs": [],
   "source": [
    "all_topics_matrix"
   ]
  },
  {
   "attachments": {},
   "cell_type": "markdown",
   "metadata": {},
   "source": [
    "Matrix is 10 X 3026, meaning it has one row for each topic, and one column for each item."
   ]
  },
  {
   "attachments": {},
   "cell_type": "markdown",
   "metadata": {},
   "source": [
    "So take the transpose"
   ]
  },
  {
   "cell_type": "code",
   "execution_count": null,
   "metadata": {},
   "outputs": [],
   "source": [
    "all_topics_arr = all_topics_matrix.T.toarray()"
   ]
  },
  {
   "cell_type": "code",
   "execution_count": null,
   "metadata": {},
   "outputs": [],
   "source": [
    "all_topics_df = pd.DataFrame(all_topics_arr)"
   ]
  },
  {
   "cell_type": "code",
   "execution_count": null,
   "metadata": {},
   "outputs": [],
   "source": [
    "all_topics_df.head()"
   ]
  },
  {
   "cell_type": "code",
   "execution_count": null,
   "metadata": {},
   "outputs": [],
   "source": [
    "all_topics_df[1].value_counts()"
   ]
  },
  {
   "attachments": {},
   "cell_type": "markdown",
   "metadata": {},
   "source": [
    "Squashing the topics into a single list"
   ]
  },
  {
   "cell_type": "code",
   "execution_count": null,
   "metadata": {},
   "outputs": [],
   "source": [
    "for idx, row in enumerate(lda_model[corpus]):\n",
    "    print(idx, row)\n",
    "    row = sorted(row, key=lambda x: (x[1]), reverse=True)\n",
    "    print(row)\n",
    "\n",
    "    # Extract the first item from each tuple in row\n",
    "    topic_indices = [x[0] for x in row]\n",
    "\n",
    "    # print(lda_model.show_topic(row[0][0]))\n",
    "    print(topic_indices)\n",
    "    break"
   ]
  },
  {
   "cell_type": "code",
   "execution_count": null,
   "metadata": {},
   "outputs": [],
   "source": [
    "def get_topic_indices(row):\n",
    "    row = sorted(row, key=lambda x: (x[1]), reverse=True)\n",
    "    topic_indices = [x[0] for x in row]\n",
    "    return topic_indices"
   ]
  },
  {
   "cell_type": "code",
   "execution_count": null,
   "metadata": {},
   "outputs": [],
   "source": [
    "# Map the get_topic_indices function to lda_model[corpus]\n",
    "topic_indices = list(map(get_topic_indices, lda_model[corpus]))"
   ]
  },
  {
   "cell_type": "code",
   "execution_count": null,
   "metadata": {},
   "outputs": [],
   "source": [
    "topic_indices[0]"
   ]
  },
  {
   "cell_type": "code",
   "execution_count": null,
   "metadata": {},
   "outputs": [],
   "source": [
    "# Convert topic_indices to a Series, and convert the Series into a DataFrame\n",
    "topic_indices_df = pd.DataFrame(pd.Series(topic_indices))"
   ]
  },
  {
   "cell_type": "code",
   "execution_count": null,
   "metadata": {},
   "outputs": [],
   "source": [
    "topic_indices_df.head()"
   ]
  },
  {
   "cell_type": "code",
   "execution_count": null,
   "metadata": {},
   "outputs": [],
   "source": [
    "# Concatenate trimmed and topic_indices_df\n",
    "trimmed_topics = pd.concat([trimmed, topic_indices_df], axis=1)"
   ]
  },
  {
   "cell_type": "code",
   "execution_count": null,
   "metadata": {},
   "outputs": [],
   "source": [
    "trimmed_topics.head()"
   ]
  },
  {
   "cell_type": "code",
   "execution_count": null,
   "metadata": {},
   "outputs": [],
   "source": [
    "# Rename the column in trimmed_topics\n",
    "trimmed_topics = trimmed_topics.rename(columns={0: 'topic_indices'})"
   ]
  },
  {
   "cell_type": "code",
   "execution_count": null,
   "metadata": {},
   "outputs": [],
   "source": [
    "trimmed_topics.head()"
   ]
  },
  {
   "cell_type": "code",
   "execution_count": null,
   "metadata": {},
   "outputs": [],
   "source": [
    "lda_model.print_topics()"
   ]
  },
  {
   "cell_type": "code",
   "execution_count": null,
   "metadata": {},
   "outputs": [],
   "source": [
    "def get_topic_names_from_index(idx):\n",
    "    if idx == 0:\n",
    "        return ['Customer Service', 'Technology', 'Business']\n",
    "    if idx == 1:\n",
    "        return ['Encryption', 'Technology', 'Digital Security', 'Computer Science']\n",
    "    if idx == 2:\n",
    "        return ['Programming', 'API', 'Java', 'Technology']\n",
    "    if idx == 3:\n",
    "        return ['Cloud', 'AWS', 'Amazon Web Services', 'Internet', 'Technology']\n",
    "    if idx == 4:\n",
    "        return ['Teams', 'People', 'Office']\n",
    "    if idx == 5:\n",
    "        return ['Mobiles', 'Technology', 'Android', 'IOS', 'Apple', 'Google']\n",
    "    if idx == 6:\n",
    "        return ['Cloud', 'AWS', 'Amazon Web Services', 'Internet']\n",
    "    if idx == 7:\n",
    "        return ['Cloud', 'AWS', 'Amazon Web Services', 'Internet']\n",
    "    if idx == 8:\n",
    "        return ['Cloud', 'AWS', 'Amazon Web Services', 'Internet']\n",
    "    if idx == 9:\n",
    "        return ['Cloud', 'AWS', 'Amazon Web Services', 'Internet']\n",
    "    return []\n",
    "\n",
    "def get_topic_names(row):\n",
    "    topic_names = [get_topic_names_from_index(idx) for idx in row]\n",
    "    flat = [item for sublist in topic_names for item in sublist]\n",
    "    return list(set(flat))"
   ]
  },
  {
   "cell_type": "code",
   "execution_count": null,
   "metadata": {},
   "outputs": [],
   "source": [
    "# Drop text_no_punc and text_no_punc_lower from trimmed_topics\n",
    "trimmed_topics = trimmed_topics.drop(['text_no_punc', 'text_no_punc_lower'], axis=1)"
   ]
  },
  {
   "cell_type": "code",
   "execution_count": null,
   "metadata": {},
   "outputs": [],
   "source": [
    "trimmed_topics.head()"
   ]
  },
  {
   "cell_type": "code",
   "execution_count": null,
   "metadata": {},
   "outputs": [],
   "source": [
    "# Iterate over the topic_indices column in trimmed_topics and apply get_topic_names_from_index\n",
    "trimmed_topics['topic_names'] = trimmed_topics['topic_indices'].apply(lambda x: get_topic_names(x))"
   ]
  },
  {
   "cell_type": "code",
   "execution_count": null,
   "metadata": {},
   "outputs": [],
   "source": [
    "trimmed_topics.head()"
   ]
  },
  {
   "cell_type": "code",
   "execution_count": null,
   "metadata": {},
   "outputs": [],
   "source": [
    "# Drop topic_indices from trimmed_topics\n",
    "trimmed_topics = trimmed_topics.drop('topic_indices', axis=1)"
   ]
  },
  {
   "cell_type": "code",
   "execution_count": null,
   "metadata": {},
   "outputs": [],
   "source": [
    "trimmed_topics.head()"
   ]
  },
  {
   "cell_type": "code",
   "execution_count": null,
   "metadata": {},
   "outputs": [],
   "source": [
    "trimmed_topics['topic_names']"
   ]
  },
  {
   "cell_type": "code",
   "execution_count": null,
   "metadata": {},
   "outputs": [],
   "source": [
    "# Add the topic_names column to content\n",
    "content = pd.concat([content, trimmed_topics['topic_names']], axis=1)"
   ]
  },
  {
   "cell_type": "code",
   "execution_count": null,
   "metadata": {},
   "outputs": [],
   "source": [
    "content.head()"
   ]
  },
  {
   "cell_type": "code",
   "execution_count": null,
   "metadata": {},
   "outputs": [],
   "source": []
  },
  {
   "cell_type": "code",
   "execution_count": null,
   "metadata": {},
   "outputs": [],
   "source": []
  },
  {
   "cell_type": "code",
   "execution_count": null,
   "metadata": {},
   "outputs": [],
   "source": []
  },
  {
   "cell_type": "code",
   "execution_count": null,
   "metadata": {},
   "outputs": [],
   "source": []
  },
  {
   "cell_type": "code",
   "execution_count": null,
   "metadata": {},
   "outputs": [],
   "source": []
  },
  {
   "cell_type": "code",
   "execution_count": null,
   "metadata": {},
   "outputs": [],
   "source": [
    "trimmed.shape"
   ]
  },
  {
   "cell_type": "code",
   "execution_count": null,
   "metadata": {},
   "outputs": [],
   "source": [
    "y.shape"
   ]
  },
  {
   "cell_type": "code",
   "execution_count": null,
   "metadata": {},
   "outputs": [],
   "source": [
    "# x.columns"
   ]
  },
  {
   "cell_type": "code",
   "execution_count": null,
   "metadata": {},
   "outputs": [],
   "source": [
    "trimmed.shape"
   ]
  },
  {
   "cell_type": "code",
   "execution_count": null,
   "metadata": {},
   "outputs": [],
   "source": [
    "dups = trimmed[trimmed.duplicated(subset=['title', 'text_description'])]"
   ]
  },
  {
   "cell_type": "code",
   "execution_count": null,
   "metadata": {},
   "outputs": [],
   "source": [
    "dups.head(20)"
   ]
  },
  {
   "cell_type": "code",
   "execution_count": null,
   "metadata": {},
   "outputs": [],
   "source": []
  }
 ],
 "metadata": {
  "kernelspec": {
   "display_name": "base",
   "language": "python",
   "name": "python3"
  },
  "language_info": {
   "codemirror_mode": {
    "name": "ipython",
    "version": 3
   },
   "file_extension": ".py",
   "mimetype": "text/x-python",
   "name": "python",
   "nbconvert_exporter": "python",
   "pygments_lexer": "ipython3",
   "version": "3.9.13"
  },
  "orig_nbformat": 4,
  "vscode": {
   "interpreter": {
    "hash": "d3e304532d5b6c3e2587553562a2bbed4072044e641cf58a5451c6f390953ce2"
   }
  }
 },
 "nbformat": 4,
 "nbformat_minor": 2
}
